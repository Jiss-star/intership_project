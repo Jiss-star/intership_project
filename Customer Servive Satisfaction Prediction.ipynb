{
 "cells": [
  {
   "cell_type": "markdown",
   "id": "0ca93294-1b6e-4399-869b-3eab72c8d2db",
   "metadata": {},
   "source": [
    "# OVERVIEW"
   ]
  },
  {
   "cell_type": "markdown",
   "id": "9a33c83e-f597-4c04-84ec-a6b923f24ce9",
   "metadata": {},
   "source": [
    " This comprehensive dataset captures customer satisfaction scores over a one-month period at the Shopzilla e-commerce platform, a pseudonymous entity. With 85,907 rows and 20 columns, this dataset provides a rich source for conducting Exploratory Data Analysis (EDA), Visualization, and Machine Learning Classification tasks. "
   ]
  },
  {
   "cell_type": "markdown",
   "id": "4da3118d-8b9d-48f2-b1f3-1fdf09fb62db",
   "metadata": {},
   "source": [
    "# Purpose"
   ]
  },
  {
   "cell_type": "markdown",
   "id": "ca4b70ee-971e-42c7-9056-528677586469",
   "metadata": {},
   "source": [
    "This dataset serves as a robust resource for evaluating customer service performance, forecasting satisfaction levels, and conducting customer behavior analysis within the e-commerce sector. The information contained in the dataset includes crucial features such as channel name, order details, customer feedback, agent information, and, most importantly, Customer Satisfaction (CSAT) scores."
   ]
  },
  {
   "cell_type": "code",
   "execution_count": 1,
   "id": "bd4695bf-a41a-453e-8b6f-7ce065243cee",
   "metadata": {},
   "outputs": [
    {
     "data": {
      "application/javascript": [
       "\n",
       "        if (window._pyforest_update_imports_cell) { window._pyforest_update_imports_cell('import pandas as pd'); }\n",
       "    "
      ],
      "text/plain": [
       "<IPython.core.display.Javascript object>"
      ]
     },
     "metadata": {},
     "output_type": "display_data"
    }
   ],
   "source": [
    "data=pd.read_csv('Customer_support_data.csv')"
   ]
  },
  {
   "cell_type": "code",
   "execution_count": 2,
   "id": "be8c5c82-46a9-4bc7-9186-da9f679d9021",
   "metadata": {},
   "outputs": [
    {
     "data": {
      "text/html": [
       "<div>\n",
       "<style scoped>\n",
       "    .dataframe tbody tr th:only-of-type {\n",
       "        vertical-align: middle;\n",
       "    }\n",
       "\n",
       "    .dataframe tbody tr th {\n",
       "        vertical-align: top;\n",
       "    }\n",
       "\n",
       "    .dataframe thead th {\n",
       "        text-align: right;\n",
       "    }\n",
       "</style>\n",
       "<table border=\"1\" class=\"dataframe\">\n",
       "  <thead>\n",
       "    <tr style=\"text-align: right;\">\n",
       "      <th></th>\n",
       "      <th>Unique id</th>\n",
       "      <th>channel_name</th>\n",
       "      <th>category</th>\n",
       "      <th>Sub-category</th>\n",
       "      <th>Customer Remarks</th>\n",
       "      <th>Order_id</th>\n",
       "      <th>order_date_time</th>\n",
       "      <th>Issue_reported at</th>\n",
       "      <th>issue_responded</th>\n",
       "      <th>Survey_response_Date</th>\n",
       "      <th>Customer_City</th>\n",
       "      <th>Product_category</th>\n",
       "      <th>Item_price</th>\n",
       "      <th>connected_handling_time</th>\n",
       "      <th>Agent_name</th>\n",
       "      <th>Supervisor</th>\n",
       "      <th>Manager</th>\n",
       "      <th>Tenure Bucket</th>\n",
       "      <th>Agent Shift</th>\n",
       "      <th>CSAT Score</th>\n",
       "    </tr>\n",
       "  </thead>\n",
       "  <tbody>\n",
       "    <tr>\n",
       "      <th>0</th>\n",
       "      <td>7e9ae164-6a8b-4521-a2d4-58f7c9fff13f</td>\n",
       "      <td>Outcall</td>\n",
       "      <td>Product Queries</td>\n",
       "      <td>Life Insurance</td>\n",
       "      <td>NaN</td>\n",
       "      <td>c27c9bb4-fa36-4140-9f1f-21009254ffdb</td>\n",
       "      <td>NaN</td>\n",
       "      <td>01/08/2023 11:13</td>\n",
       "      <td>01/08/2023 11:47</td>\n",
       "      <td>01-Aug-23</td>\n",
       "      <td>NaN</td>\n",
       "      <td>NaN</td>\n",
       "      <td>NaN</td>\n",
       "      <td>NaN</td>\n",
       "      <td>Richard Buchanan</td>\n",
       "      <td>Mason Gupta</td>\n",
       "      <td>Jennifer Nguyen</td>\n",
       "      <td>On Job Training</td>\n",
       "      <td>Morning</td>\n",
       "      <td>5</td>\n",
       "    </tr>\n",
       "    <tr>\n",
       "      <th>1</th>\n",
       "      <td>b07ec1b0-f376-43b6-86df-ec03da3b2e16</td>\n",
       "      <td>Outcall</td>\n",
       "      <td>Product Queries</td>\n",
       "      <td>Product Specific Information</td>\n",
       "      <td>NaN</td>\n",
       "      <td>d406b0c7-ce17-4654-b9de-f08d421254bd</td>\n",
       "      <td>NaN</td>\n",
       "      <td>01/08/2023 12:52</td>\n",
       "      <td>01/08/2023 12:54</td>\n",
       "      <td>01-Aug-23</td>\n",
       "      <td>NaN</td>\n",
       "      <td>NaN</td>\n",
       "      <td>NaN</td>\n",
       "      <td>NaN</td>\n",
       "      <td>Vicki Collins</td>\n",
       "      <td>Dylan Kim</td>\n",
       "      <td>Michael Lee</td>\n",
       "      <td>&gt;90</td>\n",
       "      <td>Morning</td>\n",
       "      <td>5</td>\n",
       "    </tr>\n",
       "    <tr>\n",
       "      <th>2</th>\n",
       "      <td>200814dd-27c7-4149-ba2b-bd3af3092880</td>\n",
       "      <td>Inbound</td>\n",
       "      <td>Order Related</td>\n",
       "      <td>Installation/demo</td>\n",
       "      <td>NaN</td>\n",
       "      <td>c273368d-b961-44cb-beaf-62d6fd6c00d5</td>\n",
       "      <td>NaN</td>\n",
       "      <td>01/08/2023 20:16</td>\n",
       "      <td>01/08/2023 20:38</td>\n",
       "      <td>01-Aug-23</td>\n",
       "      <td>NaN</td>\n",
       "      <td>NaN</td>\n",
       "      <td>NaN</td>\n",
       "      <td>NaN</td>\n",
       "      <td>Duane Norman</td>\n",
       "      <td>Jackson Park</td>\n",
       "      <td>William Kim</td>\n",
       "      <td>On Job Training</td>\n",
       "      <td>Evening</td>\n",
       "      <td>5</td>\n",
       "    </tr>\n",
       "    <tr>\n",
       "      <th>3</th>\n",
       "      <td>eb0d3e53-c1ca-42d3-8486-e42c8d622135</td>\n",
       "      <td>Inbound</td>\n",
       "      <td>Returns</td>\n",
       "      <td>Reverse Pickup Enquiry</td>\n",
       "      <td>NaN</td>\n",
       "      <td>5aed0059-55a4-4ec6-bb54-97942092020a</td>\n",
       "      <td>NaN</td>\n",
       "      <td>01/08/2023 20:56</td>\n",
       "      <td>01/08/2023 21:16</td>\n",
       "      <td>01-Aug-23</td>\n",
       "      <td>NaN</td>\n",
       "      <td>NaN</td>\n",
       "      <td>NaN</td>\n",
       "      <td>NaN</td>\n",
       "      <td>Patrick Flores</td>\n",
       "      <td>Olivia Wang</td>\n",
       "      <td>John Smith</td>\n",
       "      <td>&gt;90</td>\n",
       "      <td>Evening</td>\n",
       "      <td>5</td>\n",
       "    </tr>\n",
       "    <tr>\n",
       "      <th>4</th>\n",
       "      <td>ba903143-1e54-406c-b969-46c52f92e5df</td>\n",
       "      <td>Inbound</td>\n",
       "      <td>Cancellation</td>\n",
       "      <td>Not Needed</td>\n",
       "      <td>NaN</td>\n",
       "      <td>e8bed5a9-6933-4aff-9dc6-ccefd7dcde59</td>\n",
       "      <td>NaN</td>\n",
       "      <td>01/08/2023 10:30</td>\n",
       "      <td>01/08/2023 10:32</td>\n",
       "      <td>01-Aug-23</td>\n",
       "      <td>NaN</td>\n",
       "      <td>NaN</td>\n",
       "      <td>NaN</td>\n",
       "      <td>NaN</td>\n",
       "      <td>Christopher Sanchez</td>\n",
       "      <td>Austin Johnson</td>\n",
       "      <td>Michael Lee</td>\n",
       "      <td>0-30</td>\n",
       "      <td>Morning</td>\n",
       "      <td>5</td>\n",
       "    </tr>\n",
       "  </tbody>\n",
       "</table>\n",
       "</div>"
      ],
      "text/plain": [
       "                              Unique id channel_name         category  \\\n",
       "0  7e9ae164-6a8b-4521-a2d4-58f7c9fff13f      Outcall  Product Queries   \n",
       "1  b07ec1b0-f376-43b6-86df-ec03da3b2e16      Outcall  Product Queries   \n",
       "2  200814dd-27c7-4149-ba2b-bd3af3092880      Inbound    Order Related   \n",
       "3  eb0d3e53-c1ca-42d3-8486-e42c8d622135      Inbound          Returns   \n",
       "4  ba903143-1e54-406c-b969-46c52f92e5df      Inbound     Cancellation   \n",
       "\n",
       "                   Sub-category Customer Remarks  \\\n",
       "0                Life Insurance              NaN   \n",
       "1  Product Specific Information              NaN   \n",
       "2             Installation/demo              NaN   \n",
       "3        Reverse Pickup Enquiry              NaN   \n",
       "4                    Not Needed              NaN   \n",
       "\n",
       "                               Order_id order_date_time Issue_reported at  \\\n",
       "0  c27c9bb4-fa36-4140-9f1f-21009254ffdb             NaN  01/08/2023 11:13   \n",
       "1  d406b0c7-ce17-4654-b9de-f08d421254bd             NaN  01/08/2023 12:52   \n",
       "2  c273368d-b961-44cb-beaf-62d6fd6c00d5             NaN  01/08/2023 20:16   \n",
       "3  5aed0059-55a4-4ec6-bb54-97942092020a             NaN  01/08/2023 20:56   \n",
       "4  e8bed5a9-6933-4aff-9dc6-ccefd7dcde59             NaN  01/08/2023 10:30   \n",
       "\n",
       "    issue_responded Survey_response_Date Customer_City Product_category  \\\n",
       "0  01/08/2023 11:47            01-Aug-23           NaN              NaN   \n",
       "1  01/08/2023 12:54            01-Aug-23           NaN              NaN   \n",
       "2  01/08/2023 20:38            01-Aug-23           NaN              NaN   \n",
       "3  01/08/2023 21:16            01-Aug-23           NaN              NaN   \n",
       "4  01/08/2023 10:32            01-Aug-23           NaN              NaN   \n",
       "\n",
       "   Item_price  connected_handling_time           Agent_name      Supervisor  \\\n",
       "0         NaN                      NaN     Richard Buchanan     Mason Gupta   \n",
       "1         NaN                      NaN        Vicki Collins       Dylan Kim   \n",
       "2         NaN                      NaN         Duane Norman    Jackson Park   \n",
       "3         NaN                      NaN       Patrick Flores     Olivia Wang   \n",
       "4         NaN                      NaN  Christopher Sanchez  Austin Johnson   \n",
       "\n",
       "           Manager    Tenure Bucket Agent Shift  CSAT Score  \n",
       "0  Jennifer Nguyen  On Job Training     Morning           5  \n",
       "1      Michael Lee              >90     Morning           5  \n",
       "2      William Kim  On Job Training     Evening           5  \n",
       "3       John Smith              >90     Evening           5  \n",
       "4      Michael Lee             0-30     Morning           5  "
      ]
     },
     "execution_count": 2,
     "metadata": {},
     "output_type": "execute_result"
    }
   ],
   "source": [
    "data.head()"
   ]
  },
  {
   "cell_type": "code",
   "execution_count": 3,
   "id": "e0b667bb-5c54-4456-a0a8-93a21416cd25",
   "metadata": {},
   "outputs": [
    {
     "data": {
      "text/html": [
       "<div>\n",
       "<style scoped>\n",
       "    .dataframe tbody tr th:only-of-type {\n",
       "        vertical-align: middle;\n",
       "    }\n",
       "\n",
       "    .dataframe tbody tr th {\n",
       "        vertical-align: top;\n",
       "    }\n",
       "\n",
       "    .dataframe thead th {\n",
       "        text-align: right;\n",
       "    }\n",
       "</style>\n",
       "<table border=\"1\" class=\"dataframe\">\n",
       "  <thead>\n",
       "    <tr style=\"text-align: right;\">\n",
       "      <th></th>\n",
       "      <th>Unique id</th>\n",
       "      <th>channel_name</th>\n",
       "      <th>category</th>\n",
       "      <th>Sub-category</th>\n",
       "      <th>Customer Remarks</th>\n",
       "      <th>Order_id</th>\n",
       "      <th>order_date_time</th>\n",
       "      <th>Issue_reported at</th>\n",
       "      <th>issue_responded</th>\n",
       "      <th>Survey_response_Date</th>\n",
       "      <th>Customer_City</th>\n",
       "      <th>Product_category</th>\n",
       "      <th>Item_price</th>\n",
       "      <th>connected_handling_time</th>\n",
       "      <th>Agent_name</th>\n",
       "      <th>Supervisor</th>\n",
       "      <th>Manager</th>\n",
       "      <th>Tenure Bucket</th>\n",
       "      <th>Agent Shift</th>\n",
       "      <th>CSAT Score</th>\n",
       "    </tr>\n",
       "  </thead>\n",
       "  <tbody>\n",
       "    <tr>\n",
       "      <th>85902</th>\n",
       "      <td>505ea5e7-c475-4fac-ac36-1d19a4cb610f</td>\n",
       "      <td>Inbound</td>\n",
       "      <td>Refund Related</td>\n",
       "      <td>Refund Enquiry</td>\n",
       "      <td>NaN</td>\n",
       "      <td>1b5a2b9c-a95f-405f-a42e-5b1b693f3dc9</td>\n",
       "      <td>NaN</td>\n",
       "      <td>30/08/2023 23:20</td>\n",
       "      <td>31/08/2023 07:22</td>\n",
       "      <td>31-Aug-23</td>\n",
       "      <td>NaN</td>\n",
       "      <td>NaN</td>\n",
       "      <td>NaN</td>\n",
       "      <td>NaN</td>\n",
       "      <td>Brandon Leon</td>\n",
       "      <td>Ethan Tan</td>\n",
       "      <td>William Kim</td>\n",
       "      <td>On Job Training</td>\n",
       "      <td>Morning</td>\n",
       "      <td>4</td>\n",
       "    </tr>\n",
       "    <tr>\n",
       "      <th>85903</th>\n",
       "      <td>44b38d3f-1523-4182-aba2-72917586647c</td>\n",
       "      <td>Inbound</td>\n",
       "      <td>Order Related</td>\n",
       "      <td>Seller Cancelled Order</td>\n",
       "      <td>Supported team customer executive   good</td>\n",
       "      <td>d0e8a817-96d5-4ace-bb82-adec50398e22</td>\n",
       "      <td>NaN</td>\n",
       "      <td>31/08/2023 08:15</td>\n",
       "      <td>31/08/2023 08:17</td>\n",
       "      <td>31-Aug-23</td>\n",
       "      <td>NaN</td>\n",
       "      <td>NaN</td>\n",
       "      <td>NaN</td>\n",
       "      <td>NaN</td>\n",
       "      <td>Linda Foster</td>\n",
       "      <td>Noah Patel</td>\n",
       "      <td>Emily Chen</td>\n",
       "      <td>&gt;90</td>\n",
       "      <td>Morning</td>\n",
       "      <td>5</td>\n",
       "    </tr>\n",
       "    <tr>\n",
       "      <th>85904</th>\n",
       "      <td>723bce2c-496c-4aa8-a64b-ca17004528f0</td>\n",
       "      <td>Inbound</td>\n",
       "      <td>Order Related</td>\n",
       "      <td>Order status enquiry</td>\n",
       "      <td>need to improve with proper details.</td>\n",
       "      <td>bdefe788-ccec-4eda-8ca4-51045e68db8a</td>\n",
       "      <td>NaN</td>\n",
       "      <td>31/08/2023 18:57</td>\n",
       "      <td>31/08/2023 19:02</td>\n",
       "      <td>31-Aug-23</td>\n",
       "      <td>NaN</td>\n",
       "      <td>NaN</td>\n",
       "      <td>NaN</td>\n",
       "      <td>NaN</td>\n",
       "      <td>Kimberly Martinez</td>\n",
       "      <td>Aiden Patel</td>\n",
       "      <td>Olivia Tan</td>\n",
       "      <td>On Job Training</td>\n",
       "      <td>Evening</td>\n",
       "      <td>5</td>\n",
       "    </tr>\n",
       "    <tr>\n",
       "      <th>85905</th>\n",
       "      <td>707528ee-6873-4192-bfa9-a491f1c08ab5</td>\n",
       "      <td>Inbound</td>\n",
       "      <td>Feedback</td>\n",
       "      <td>UnProfessional Behaviour</td>\n",
       "      <td>NaN</td>\n",
       "      <td>a031ec28-0c5e-450e-95b2-592342c40bc4</td>\n",
       "      <td>NaN</td>\n",
       "      <td>31/08/2023 19:59</td>\n",
       "      <td>31/08/2023 20:00</td>\n",
       "      <td>31-Aug-23</td>\n",
       "      <td>NaN</td>\n",
       "      <td>NaN</td>\n",
       "      <td>NaN</td>\n",
       "      <td>NaN</td>\n",
       "      <td>Daniel Martin</td>\n",
       "      <td>Olivia Suzuki</td>\n",
       "      <td>Olivia Tan</td>\n",
       "      <td>&gt;90</td>\n",
       "      <td>Morning</td>\n",
       "      <td>4</td>\n",
       "    </tr>\n",
       "    <tr>\n",
       "      <th>85906</th>\n",
       "      <td>07c7a878-0d5a-42e0-97ef-de59abec0238</td>\n",
       "      <td>Inbound</td>\n",
       "      <td>Returns</td>\n",
       "      <td>Reverse Pickup Enquiry</td>\n",
       "      <td>NaN</td>\n",
       "      <td>3230db30-f8da-4c44-8636-ec76d1d3d4f3</td>\n",
       "      <td>NaN</td>\n",
       "      <td>31/08/2023 23:36</td>\n",
       "      <td>31/08/2023 23:37</td>\n",
       "      <td>31-Aug-23</td>\n",
       "      <td>NaN</td>\n",
       "      <td>NaN</td>\n",
       "      <td>NaN</td>\n",
       "      <td>NaN</td>\n",
       "      <td>Elizabeth Guerra</td>\n",
       "      <td>Nathan Patel</td>\n",
       "      <td>Jennifer Nguyen</td>\n",
       "      <td>On Job Training</td>\n",
       "      <td>Evening</td>\n",
       "      <td>5</td>\n",
       "    </tr>\n",
       "  </tbody>\n",
       "</table>\n",
       "</div>"
      ],
      "text/plain": [
       "                                  Unique id channel_name        category  \\\n",
       "85902  505ea5e7-c475-4fac-ac36-1d19a4cb610f      Inbound  Refund Related   \n",
       "85903  44b38d3f-1523-4182-aba2-72917586647c      Inbound   Order Related   \n",
       "85904  723bce2c-496c-4aa8-a64b-ca17004528f0      Inbound   Order Related   \n",
       "85905  707528ee-6873-4192-bfa9-a491f1c08ab5      Inbound        Feedback   \n",
       "85906  07c7a878-0d5a-42e0-97ef-de59abec0238      Inbound         Returns   \n",
       "\n",
       "                   Sub-category                          Customer Remarks  \\\n",
       "85902            Refund Enquiry                                       NaN   \n",
       "85903    Seller Cancelled Order  Supported team customer executive   good   \n",
       "85904      Order status enquiry      need to improve with proper details.   \n",
       "85905  UnProfessional Behaviour                                       NaN   \n",
       "85906    Reverse Pickup Enquiry                                       NaN   \n",
       "\n",
       "                                   Order_id order_date_time Issue_reported at  \\\n",
       "85902  1b5a2b9c-a95f-405f-a42e-5b1b693f3dc9             NaN  30/08/2023 23:20   \n",
       "85903  d0e8a817-96d5-4ace-bb82-adec50398e22             NaN  31/08/2023 08:15   \n",
       "85904  bdefe788-ccec-4eda-8ca4-51045e68db8a             NaN  31/08/2023 18:57   \n",
       "85905  a031ec28-0c5e-450e-95b2-592342c40bc4             NaN  31/08/2023 19:59   \n",
       "85906  3230db30-f8da-4c44-8636-ec76d1d3d4f3             NaN  31/08/2023 23:36   \n",
       "\n",
       "        issue_responded Survey_response_Date Customer_City Product_category  \\\n",
       "85902  31/08/2023 07:22            31-Aug-23           NaN              NaN   \n",
       "85903  31/08/2023 08:17            31-Aug-23           NaN              NaN   \n",
       "85904  31/08/2023 19:02            31-Aug-23           NaN              NaN   \n",
       "85905  31/08/2023 20:00            31-Aug-23           NaN              NaN   \n",
       "85906  31/08/2023 23:37            31-Aug-23           NaN              NaN   \n",
       "\n",
       "       Item_price  connected_handling_time         Agent_name     Supervisor  \\\n",
       "85902         NaN                      NaN       Brandon Leon      Ethan Tan   \n",
       "85903         NaN                      NaN       Linda Foster     Noah Patel   \n",
       "85904         NaN                      NaN  Kimberly Martinez    Aiden Patel   \n",
       "85905         NaN                      NaN      Daniel Martin  Olivia Suzuki   \n",
       "85906         NaN                      NaN   Elizabeth Guerra   Nathan Patel   \n",
       "\n",
       "               Manager    Tenure Bucket Agent Shift  CSAT Score  \n",
       "85902      William Kim  On Job Training     Morning           4  \n",
       "85903       Emily Chen              >90     Morning           5  \n",
       "85904       Olivia Tan  On Job Training     Evening           5  \n",
       "85905       Olivia Tan              >90     Morning           4  \n",
       "85906  Jennifer Nguyen  On Job Training     Evening           5  "
      ]
     },
     "execution_count": 3,
     "metadata": {},
     "output_type": "execute_result"
    }
   ],
   "source": [
    "data.tail()"
   ]
  },
  {
   "cell_type": "code",
   "execution_count": 4,
   "id": "31581896-438e-4393-ae77-2405e7b59153",
   "metadata": {},
   "outputs": [
    {
     "data": {
      "text/plain": [
       "Unique id                      0\n",
       "channel_name                   0\n",
       "category                       0\n",
       "Sub-category                   0\n",
       "Customer Remarks           57165\n",
       "Order_id                   18232\n",
       "order_date_time            68693\n",
       "Issue_reported at              0\n",
       "issue_responded                0\n",
       "Survey_response_Date           0\n",
       "Customer_City              68828\n",
       "Product_category           68711\n",
       "Item_price                 68701\n",
       "connected_handling_time    85665\n",
       "Agent_name                     0\n",
       "Supervisor                     0\n",
       "Manager                        0\n",
       "Tenure Bucket                  0\n",
       "Agent Shift                    0\n",
       "CSAT Score                     0\n",
       "dtype: int64"
      ]
     },
     "execution_count": 4,
     "metadata": {},
     "output_type": "execute_result"
    }
   ],
   "source": [
    "data.isna().sum()"
   ]
  },
  {
   "cell_type": "code",
   "execution_count": 5,
   "id": "86ac5eb8-5877-4357-999f-72f9b1ea1df0",
   "metadata": {},
   "outputs": [
    {
     "data": {
      "text/plain": [
       "(85907, 20)"
      ]
     },
     "execution_count": 5,
     "metadata": {},
     "output_type": "execute_result"
    }
   ],
   "source": [
    "data.shape"
   ]
  },
  {
   "cell_type": "code",
   "execution_count": 6,
   "id": "7fc6ec4f-437a-4ffd-9be4-b8800eaac7fc",
   "metadata": {},
   "outputs": [
    {
     "data": {
      "text/plain": [
       "CSAT Score\n",
       "5    59617\n",
       "1    11230\n",
       "4    11219\n",
       "3     2558\n",
       "2     1283\n",
       "Name: count, dtype: int64"
      ]
     },
     "execution_count": 6,
     "metadata": {},
     "output_type": "execute_result"
    }
   ],
   "source": [
    "data['CSAT Score'].value_counts()"
   ]
  },
  {
   "cell_type": "code",
   "execution_count": 14,
   "id": "388141cc-919d-426f-bf63-6a22df366e94",
   "metadata": {},
   "outputs": [],
   "source": [
    "df=data.copy()"
   ]
  },
  {
   "cell_type": "code",
   "execution_count": 16,
   "id": "892aa59e-401d-4d44-a128-3b887a89bc16",
   "metadata": {},
   "outputs": [
    {
     "name": "stderr",
     "output_type": "stream",
     "text": [
      "C:\\Users\\jissm\\AppData\\Local\\Temp\\ipykernel_8320\\335455219.py:5: FutureWarning: A value is trying to be set on a copy of a DataFrame or Series through chained assignment using an inplace method.\n",
      "The behavior will change in pandas 3.0. This inplace method will never work because the intermediate object on which we are setting values always behaves as a copy.\n",
      "\n",
      "For example, when doing 'df[col].method(value, inplace=True)', try using 'df.method({col: value}, inplace=True)' or df[col] = df[col].method(value) instead, to perform the operation inplace on the original object.\n",
      "\n",
      "\n",
      "  df_cleaned[\"Item_price\"].fillna(df_cleaned[\"Item_price\"].median(), inplace=True)\n",
      "C:\\Users\\jissm\\AppData\\Local\\Temp\\ipykernel_8320\\335455219.py:6: FutureWarning: A value is trying to be set on a copy of a DataFrame or Series through chained assignment using an inplace method.\n",
      "The behavior will change in pandas 3.0. This inplace method will never work because the intermediate object on which we are setting values always behaves as a copy.\n",
      "\n",
      "For example, when doing 'df[col].method(value, inplace=True)', try using 'df.method({col: value}, inplace=True)' or df[col] = df[col].method(value) instead, to perform the operation inplace on the original object.\n",
      "\n",
      "\n",
      "  df_cleaned[\"connected_handling_time\"].fillna(df_cleaned[\"connected_handling_time\"].median(), inplace=True)\n",
      "C:\\Users\\jissm\\AppData\\Local\\Temp\\ipykernel_8320\\335455219.py:9: FutureWarning: A value is trying to be set on a copy of a DataFrame or Series through chained assignment using an inplace method.\n",
      "The behavior will change in pandas 3.0. This inplace method will never work because the intermediate object on which we are setting values always behaves as a copy.\n",
      "\n",
      "For example, when doing 'df[col].method(value, inplace=True)', try using 'df.method({col: value}, inplace=True)' or df[col] = df[col].method(value) instead, to perform the operation inplace on the original object.\n",
      "\n",
      "\n",
      "  df_cleaned[\"Customer_City\"].fillna(\"Unknown\", inplace=True)\n",
      "C:\\Users\\jissm\\AppData\\Local\\Temp\\ipykernel_8320\\335455219.py:10: FutureWarning: A value is trying to be set on a copy of a DataFrame or Series through chained assignment using an inplace method.\n",
      "The behavior will change in pandas 3.0. This inplace method will never work because the intermediate object on which we are setting values always behaves as a copy.\n",
      "\n",
      "For example, when doing 'df[col].method(value, inplace=True)', try using 'df.method({col: value}, inplace=True)' or df[col] = df[col].method(value) instead, to perform the operation inplace on the original object.\n",
      "\n",
      "\n",
      "  df_cleaned[\"Product_category\"].fillna(\"Unknown\", inplace=True)\n"
     ]
    },
    {
     "data": {
      "application/javascript": [
       "\n",
       "        if (window._pyforest_update_imports_cell) { window._pyforest_update_imports_cell('import pandas as pd'); }\n",
       "    "
      ],
      "text/plain": [
       "<IPython.core.display.Javascript object>"
      ]
     },
     "metadata": {},
     "output_type": "display_data"
    },
    {
     "data": {
      "application/javascript": [
       "\n",
       "        if (window._pyforest_update_imports_cell) { window._pyforest_update_imports_cell('import pandas as pd'); }\n",
       "    "
      ],
      "text/plain": [
       "<IPython.core.display.Javascript object>"
      ]
     },
     "metadata": {},
     "output_type": "display_data"
    },
    {
     "data": {
      "application/javascript": [
       "\n",
       "        if (window._pyforest_update_imports_cell) { window._pyforest_update_imports_cell('import pandas as pd'); }\n",
       "    "
      ],
      "text/plain": [
       "<IPython.core.display.Javascript object>"
      ]
     },
     "metadata": {},
     "output_type": "display_data"
    },
    {
     "name": "stderr",
     "output_type": "stream",
     "text": [
      "C:\\Users\\jissm\\AppData\\Local\\Temp\\ipykernel_8320\\335455219.py:16: UserWarning: Could not infer format, so each element will be parsed individually, falling back to `dateutil`. To ensure parsing is consistent and as-expected, please specify a format.\n",
      "  df_cleaned[column] = pd.to_datetime(df_cleaned[column], errors='coerce')\n",
      "C:\\Users\\jissm\\AppData\\Local\\Temp\\ipykernel_8320\\335455219.py:20: FutureWarning: A value is trying to be set on a copy of a DataFrame or Series through chained assignment using an inplace method.\n",
      "The behavior will change in pandas 3.0. This inplace method will never work because the intermediate object on which we are setting values always behaves as a copy.\n",
      "\n",
      "For example, when doing 'df[col].method(value, inplace=True)', try using 'df.method({col: value}, inplace=True)' or df[col] = df[col].method(value) instead, to perform the operation inplace on the original object.\n",
      "\n",
      "\n",
      "  df_cleaned[column].fillna(df_cleaned[column].median(), inplace=True)\n",
      "C:\\Users\\jissm\\AppData\\Local\\Temp\\ipykernel_8320\\335455219.py:20: FutureWarning: A value is trying to be set on a copy of a DataFrame or Series through chained assignment using an inplace method.\n",
      "The behavior will change in pandas 3.0. This inplace method will never work because the intermediate object on which we are setting values always behaves as a copy.\n",
      "\n",
      "For example, when doing 'df[col].method(value, inplace=True)', try using 'df.method({col: value}, inplace=True)' or df[col] = df[col].method(value) instead, to perform the operation inplace on the original object.\n",
      "\n",
      "\n",
      "  df_cleaned[column].fillna(df_cleaned[column].median(), inplace=True)\n"
     ]
    }
   ],
   "source": [
    "# Drop unnecessary columns\n",
    "df_cleaned = df.drop([\"Customer Remarks\", \"Order_id\", \"order_date_time\"], axis=1)\n",
    "\n",
    "# Impute missing values for numerical features\n",
    "df_cleaned[\"Item_price\"].fillna(df_cleaned[\"Item_price\"].median(), inplace=True)\n",
    "df_cleaned[\"connected_handling_time\"].fillna(df_cleaned[\"connected_handling_time\"].median(), inplace=True)\n",
    "\n",
    "# Impute missing values for categorical features\n",
    "df_cleaned[\"Customer_City\"].fillna(\"Unknown\", inplace=True)\n",
    "df_cleaned[\"Product_category\"].fillna(\"Unknown\", inplace=True)\n",
    "\n",
    "\n",
    "# Convert timestamp columns to datetime format\n",
    "timestamp_columns = [\"Issue_reported at\", \"issue_responded\", \"Survey_response_Date\"]\n",
    "for column in timestamp_columns:\n",
    "    df_cleaned[column] = pd.to_datetime(df_cleaned[column], errors='coerce')\n",
    "    \n",
    "# Impute missing values for timestamp features\n",
    "for column in [\"Issue_reported at\", \"issue_responded\"]:\n",
    "    df_cleaned[column].fillna(df_cleaned[column].median(), inplace=True)"
   ]
  },
  {
   "cell_type": "code",
   "execution_count": 20,
   "id": "7d3ece26-09cb-4d9b-be97-37d6f2354497",
   "metadata": {},
   "outputs": [
    {
     "data": {
      "text/plain": [
       "Unique id                  0\n",
       "channel_name               0\n",
       "category                   0\n",
       "Sub-category               0\n",
       "Issue_reported at          0\n",
       "issue_responded            0\n",
       "Survey_response_Date       0\n",
       "Customer_City              0\n",
       "Product_category           0\n",
       "Item_price                 0\n",
       "connected_handling_time    0\n",
       "Agent_name                 0\n",
       "Supervisor                 0\n",
       "Manager                    0\n",
       "Tenure Bucket              0\n",
       "Agent Shift                0\n",
       "CSAT Score                 0\n",
       "dtype: int64"
      ]
     },
     "execution_count": 20,
     "metadata": {},
     "output_type": "execute_result"
    }
   ],
   "source": [
    "df_cleaned.isna().sum()"
   ]
  },
  {
   "cell_type": "code",
   "execution_count": 26,
   "id": "b300f766-1a2f-4cf1-a0ab-bb7dc6c5d36a",
   "metadata": {},
   "outputs": [
    {
     "data": {
      "text/plain": [
       "Unique id                          object\n",
       "channel_name                       object\n",
       "category                           object\n",
       "Sub-category                       object\n",
       "Issue_reported at          datetime64[ns]\n",
       "issue_responded            datetime64[ns]\n",
       "Survey_response_Date       datetime64[ns]\n",
       "Customer_City                      object\n",
       "Product_category                   object\n",
       "Item_price                        float64\n",
       "connected_handling_time           float64\n",
       "Agent_name                         object\n",
       "Supervisor                         object\n",
       "Manager                            object\n",
       "Tenure Bucket                      object\n",
       "Agent Shift                        object\n",
       "CSAT Score                          int64\n",
       "dtype: object"
      ]
     },
     "execution_count": 26,
     "metadata": {},
     "output_type": "execute_result"
    }
   ],
   "source": [
    "df_cleaned.dtypes"
   ]
  },
  {
   "cell_type": "code",
   "execution_count": 30,
   "id": "24937396-9424-4c10-9fb6-b3d07e6b0a81",
   "metadata": {},
   "outputs": [
    {
     "data": {
      "text/plain": [
       "array([   nan,   434.,  1299., ..., 27995.,  4579.,  1629.])"
      ]
     },
     "execution_count": 30,
     "metadata": {},
     "output_type": "execute_result"
    }
   ],
   "source": []
  },
  {
   "cell_type": "code",
   "execution_count": null,
   "id": "0a3f6eaa-850a-4c46-90df-5f181ffc26e4",
   "metadata": {},
   "outputs": [],
   "source": []
  }
 ],
 "metadata": {
  "kernelspec": {
   "display_name": "Python 3 (ipykernel)",
   "language": "python",
   "name": "python3"
  },
  "language_info": {
   "codemirror_mode": {
    "name": "ipython",
    "version": 3
   },
   "file_extension": ".py",
   "mimetype": "text/x-python",
   "name": "python",
   "nbconvert_exporter": "python",
   "pygments_lexer": "ipython3",
   "version": "3.12.4"
  }
 },
 "nbformat": 4,
 "nbformat_minor": 5
}
